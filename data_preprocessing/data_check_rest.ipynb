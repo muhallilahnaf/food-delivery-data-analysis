{
 "cells": [
  {
   "cell_type": "code",
   "execution_count": null,
   "metadata": {},
   "outputs": [],
   "source": [
    "import pandas as pd\n",
    "import os"
   ]
  },
  {
   "cell_type": "code",
   "execution_count": null,
   "metadata": {},
   "outputs": [],
   "source": [
    "ROOT_DIR = os.path.abspath(os.path.join(os.path.dirname('./'), '..'))"
   ]
  },
  {
   "cell_type": "code",
   "execution_count": null,
   "metadata": {},
   "outputs": [],
   "source": [
    "# read data\n",
    "file_path = os.path.join(ROOT_DIR, 'data', 'rest.csv')\n",
    "df = pd.read_csv(file_path, index_col='rest_code')\n",
    "df.head()"
   ]
  },
  {
   "cell_type": "code",
   "execution_count": null,
   "metadata": {},
   "outputs": [],
   "source": [
    "# get column names\n",
    "', '.join(df.columns.tolist())"
   ]
  },
  {
   "cell_type": "code",
   "execution_count": null,
   "metadata": {},
   "outputs": [],
   "source": [
    "# drop cols (repetitive or containing identifiable info)\n",
    "df.drop(columns=['id', 'code', 'address', 'address_line2', 'customer_phone'], inplace=True)"
   ]
  },
  {
   "cell_type": "code",
   "execution_count": null,
   "metadata": {},
   "outputs": [],
   "source": [
    "# function to check if all vals in col are NA\n",
    "# or unique vals in col are very few\n",
    "def check_cols_to_drop():\n",
    "    drop_cols = []\n",
    "    maybe_drop_cols = []\n",
    "    for col in df.columns.tolist():\n",
    "        unique_vals_count = df[col].value_counts().size\n",
    "        if unique_vals_count == 0:\n",
    "            drop_cols.append(col)\n",
    "        if unique_vals_count > 0 and unique_vals_count < 10:\n",
    "            maybe_drop_cols.append(col)\n",
    "    print('drop cols:', drop_cols)\n",
    "    print('maybe drop cols:', maybe_drop_cols)\n",
    "    return {\n",
    "        'drop cols': drop_cols,\n",
    "        'maybe drop cols': maybe_drop_cols\n",
    "    }"
   ]
  },
  {
   "cell_type": "code",
   "execution_count": null,
   "metadata": {},
   "outputs": [],
   "source": [
    "# check which cols to drop\n",
    "cols_to_drop = check_cols_to_drop()"
   ]
  },
  {
   "cell_type": "code",
   "execution_count": null,
   "metadata": {},
   "outputs": [],
   "source": [
    "# drop cols\n",
    "df.drop(columns=cols_to_drop['drop cols'], inplace=True)"
   ]
  },
  {
   "cell_type": "code",
   "execution_count": null,
   "metadata": {},
   "outputs": [],
   "source": [
    "# check value counts before dropping\n",
    "df['accepts_instructions'].value_counts()"
   ]
  },
  {
   "cell_type": "code",
   "execution_count": null,
   "metadata": {},
   "outputs": [],
   "source": [
    "# make a list of all the cols to keep\n",
    "cols_to_keep = [\n",
    "    'budget',\n",
    "    'is_vat_included_in_product_price',\n",
    "    'is_voucher_enabled',\n",
    "    'is_super_vendor',\n",
    "    'vertical_segment',\n",
    "    'customer_type',\n",
    "    'latitude',\n",
    "    'location',\n",
    "    'longitude',\n",
    "    'post_code',\n",
    "    'primary_cuisine_id',\n",
    "    'rating',\n",
    "    'review_number',\n",
    "    'chain_main_vendor_code',\n",
    "]\n",
    "\n",
    "df_new = df[cols_to_keep]\n",
    "print('clean data NA count:')\n",
    "print(df_new.isna().sum())"
   ]
  },
  {
   "cell_type": "code",
   "execution_count": null,
   "metadata": {},
   "outputs": [],
   "source": [
    "file_path = os.path.join(ROOT_DIR, 'data', 'rest_clean.csv')\n",
    "df_new.to_csv(file_path, index_label='rest_code')"
   ]
  },
  {
   "cell_type": "code",
   "execution_count": null,
   "metadata": {},
   "outputs": [],
   "source": []
  }
 ],
 "metadata": {
  "kernelspec": {
   "display_name": "Python 3",
   "language": "python",
   "name": "python3"
  },
  "language_info": {
   "codemirror_mode": {
    "name": "ipython",
    "version": 3
   },
   "file_extension": ".py",
   "mimetype": "text/x-python",
   "name": "python",
   "nbconvert_exporter": "python",
   "pygments_lexer": "ipython3",
   "version": "3.10.2"
  }
 },
 "nbformat": 4,
 "nbformat_minor": 2
}
