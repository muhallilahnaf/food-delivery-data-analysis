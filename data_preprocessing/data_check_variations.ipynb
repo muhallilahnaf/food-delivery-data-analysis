{
 "cells": [
  {
   "cell_type": "code",
   "execution_count": null,
   "metadata": {},
   "outputs": [],
   "source": [
    "import pandas as pd\n",
    "import os"
   ]
  },
  {
   "cell_type": "code",
   "execution_count": null,
   "metadata": {},
   "outputs": [],
   "source": [
    "ROOT_DIR = os.path.abspath(os.path.join(os.path.dirname('./'), '..'))"
   ]
  },
  {
   "cell_type": "code",
   "execution_count": null,
   "metadata": {},
   "outputs": [],
   "source": [
    "# read data\n",
    "file_path = os.path.join(ROOT_DIR, 'data', 'variations.csv')\n",
    "df = pd.read_csv(file_path, index_col='var_id')\n",
    "df.head()"
   ]
  },
  {
   "cell_type": "code",
   "execution_count": null,
   "metadata": {},
   "outputs": [],
   "source": [
    "# get column names\n",
    "', '.join(df.columns.tolist())"
   ]
  },
  {
   "cell_type": "code",
   "execution_count": null,
   "metadata": {},
   "outputs": [],
   "source": [
    "# drop cols (repetitive or containing identifiable info)\n",
    "df.drop(columns=['code'], inplace=True)"
   ]
  },
  {
   "cell_type": "code",
   "execution_count": null,
   "metadata": {},
   "outputs": [],
   "source": [
    "# function to check if all vals in col are NA\n",
    "# or unique vals in col are very few\n",
    "def check_cols_to_drop():\n",
    "    drop_cols = []\n",
    "    maybe_drop_cols = []\n",
    "    for col in df.columns.tolist():\n",
    "        unique_vals_count = df[col].value_counts().size\n",
    "        if unique_vals_count == 0:\n",
    "            drop_cols.append(col)\n",
    "        if unique_vals_count > 0 and unique_vals_count < 10:\n",
    "            maybe_drop_cols.append(col)\n",
    "    print('drop cols:', drop_cols)\n",
    "    print('maybe drop cols:', maybe_drop_cols)\n",
    "    return {\n",
    "        'drop cols': drop_cols,\n",
    "        'maybe drop cols': maybe_drop_cols\n",
    "    }"
   ]
  },
  {
   "cell_type": "code",
   "execution_count": null,
   "metadata": {},
   "outputs": [],
   "source": [
    "# check which cols to drop\n",
    "cols_to_drop = check_cols_to_drop()"
   ]
  },
  {
   "cell_type": "code",
   "execution_count": null,
   "metadata": {},
   "outputs": [],
   "source": [
    "# drop cols\n",
    "df.drop(columns=cols_to_drop['drop cols'], inplace=True)"
   ]
  },
  {
   "cell_type": "code",
   "execution_count": null,
   "metadata": {},
   "outputs": [],
   "source": [
    "# check value counts before dropping\n",
    "print('rows=', len(df.index))\n",
    "col = 'remote_code'\n",
    "print('NA:', df[col].isna().sum())\n",
    "df[col].value_counts()"
   ]
  },
  {
   "cell_type": "code",
   "execution_count": null,
   "metadata": {},
   "outputs": [],
   "source": [
    "# drop cols\n",
    "df.drop(columns=['container_price'], inplace=True)"
   ]
  },
  {
   "cell_type": "code",
   "execution_count": null,
   "metadata": {},
   "outputs": [],
   "source": [
    "df.head()"
   ]
  },
  {
   "cell_type": "code",
   "execution_count": null,
   "metadata": {},
   "outputs": [],
   "source": [
    "# checking if any row has price < discount price\n",
    "df[(df['price_before_discount'] <= df['price'])]"
   ]
  },
  {
   "cell_type": "code",
   "execution_count": null,
   "metadata": {},
   "outputs": [],
   "source": [
    "# in rows where price = discount price, replace price with 'price before discount'\n",
    "df.loc[df['price_before_discount'] > 0, 'price'] = df['price_before_discount']"
   ]
  },
  {
   "cell_type": "code",
   "execution_count": null,
   "metadata": {},
   "outputs": [],
   "source": [
    "# drop cols\n",
    "df.drop(columns=['price_before_discount'], inplace=True)"
   ]
  },
  {
   "cell_type": "code",
   "execution_count": null,
   "metadata": {},
   "outputs": [],
   "source": [
    "file_path = os.path.join(ROOT_DIR, 'data', 'variations_clean.csv')\n",
    "df.to_csv(file_path, index_label='var_id')"
   ]
  },
  {
   "cell_type": "code",
   "execution_count": null,
   "metadata": {},
   "outputs": [],
   "source": []
  }
 ],
 "metadata": {
  "kernelspec": {
   "display_name": "Python 3",
   "language": "python",
   "name": "python3"
  },
  "language_info": {
   "codemirror_mode": {
    "name": "ipython",
    "version": 3
   },
   "file_extension": ".py",
   "mimetype": "text/x-python",
   "name": "python",
   "nbconvert_exporter": "python",
   "pygments_lexer": "ipython3",
   "version": "3.10.2"
  }
 },
 "nbformat": 4,
 "nbformat_minor": 2
}
